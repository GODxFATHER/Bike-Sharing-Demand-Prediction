{
  "cells": [
    {
      "cell_type": "markdown",
      "metadata": {
        "id": "view-in-github",
        "colab_type": "text"
      },
      "source": [
        "<a href=\"https://colab.research.google.com/github/GODxFATHER/Bike-Sharing-Demand-Prediction/blob/main/Bike_Sharing_Demand_Prediction_Capstone_Project.ipynb\" target=\"_parent\"><img src=\"https://colab.research.google.com/assets/colab-badge.svg\" alt=\"Open In Colab\"/></a>"
      ]
    },
    {
      "cell_type": "markdown",
      "metadata": {
        "id": "tOGC-qoyhJeX"
      },
      "source": [
        "# <b><u> Project Title : Seoul Bike Sharing Demand Prediction </u></b>"
      ]
    },
    {
      "cell_type": "markdown",
      "metadata": {
        "id": "Y06xIdG26kRF"
      },
      "source": [
        "## <b> Problem Description </b>\n",
        "\n",
        "### Currently Rental bikes are introduced in many urban cities for the enhancement of mobility comfort. It is important to make the rental bike available and accessible to the public at the right time as it lessens the waiting time. Eventually, providing the city with a stable supply of rental bikes becomes a major concern. The crucial part is the prediction of bike count required at each hour for the stable supply of rental bikes.\n"
      ]
    },
    {
      "cell_type": "markdown",
      "metadata": {
        "id": "AlLxAtlziMbP"
      },
      "source": [
        "## <b> Data Description </b>\n",
        "\n",
        "### <b> The dataset contains weather information (Temperature, Humidity, Windspeed, Visibility, Dewpoint, Solar radiation, Snowfall, Rainfall), the number of bikes rented per hour and date information.</b>\n",
        "\n",
        "\n",
        "### <b>Attribute Information: </b>\n",
        "\n",
        "* ### Date : year-month-day\n",
        "* ### Rented Bike count - Count of bikes rented at each hour\n",
        "* ### Hour - Hour of he day\n",
        "* ### Temperature-Temperature in Celsius\n",
        "* ### Humidity - %\n",
        "* ### Windspeed - m/s\n",
        "* ### Visibility - 10m\n",
        "* ### Dew point temperature - Celsius\n",
        "* ### Solar radiation - MJ/m2\n",
        "* ### Rainfall - mm\n",
        "* ### Snowfall - cm\n",
        "* ### Seasons - Winter, Spring, Summer, Autumn\n",
        "* ### Holiday - Holiday/No holiday\n",
        "* ### Functional Day - NoFunc(Non Functional Hours), Fun(Functional hours)"
      ]
    },
    {
      "cell_type": "markdown",
      "metadata": {
        "id": "UwJ6-mli1q_A"
      },
      "source": [
        "#Importing Librabries"
      ]
    },
    {
      "cell_type": "code",
      "execution_count": null,
      "metadata": {
        "id": "Tm7peQVVVKxl"
      },
      "outputs": [],
      "source": [
        "# Importing Libraries\n",
        "\n",
        "import numpy as np \n",
        "import pandas as pd\n",
        "import matplotlib.pyplot as plt\n",
        "import seaborn as sns\n",
        "import matplotlib\n",
        "import warnings\n",
        "warnings.simplefilter(action='ignore', category=FutureWarning)\n",
        "%matplotlib inline"
      ]
    },
    {
      "cell_type": "code",
      "execution_count": null,
      "metadata": {
        "id": "VbAWttZb--Ng"
      },
      "outputs": [],
      "source": [
        "# # Configuration for matplotlib graphs\n",
        "\n",
        "# matplotlib.rcParams['font.size'] = 12\n",
        "# matplotlib.rcParams['figure.figsize'] = (13, 7)\n",
        "# matplotlib.rcParams['figure.facecolor'] = '#00000000'\n",
        "# sns.set_style('darkgrid');"
      ]
    },
    {
      "cell_type": "markdown",
      "metadata": {
        "id": "NgfDLHZF127h"
      },
      "source": [
        "#Loading the Dataset"
      ]
    },
    {
      "cell_type": "code",
      "execution_count": null,
      "metadata": {
        "colab": {
          "background_save": true
        },
        "id": "-DEJe-lOVUVT",
        "outputId": "f161f930-3377-40e2-a6cb-309f100652aa"
      },
      "outputs": [
        {
          "name": "stdout",
          "output_type": "stream",
          "text": [
            "Mounted at /content/drive\n"
          ]
        }
      ],
      "source": [
        "# Mounting the google drive\n",
        "\n",
        "from google.colab import drive\n",
        "drive.mount('/content/drive')"
      ]
    },
    {
      "cell_type": "code",
      "execution_count": null,
      "metadata": {
        "id": "BL4MLPxh_Bhp"
      },
      "outputs": [],
      "source": [
        "# Loading the csv file into pandas dataframe\n",
        "\n",
        "# path_r = \"/content/drive/MyDrive/EDA - Capstone Project/Airbnb NYC 2019.csv\"\n",
        "path_p = '/content/SeoulBikeData.csv'\n",
        "path_n = \"/content/drive/MyDrive/DATA_FILES/SeoulBikeData.csv\"\n",
        "df = pd.read_csv(path_n, encoding= 'unicode_escape')"
      ]
    },
    {
      "cell_type": "markdown",
      "metadata": {
        "id": "L200PuSQdcMf"
      },
      "source": [
        "#EDA on features"
      ]
    },
    {
      "cell_type": "code",
      "execution_count": null,
      "metadata": {
        "id": "EwhVAULBdvCg"
      },
      "outputs": [],
      "source": [
        "#rows and columns in dataset\n",
        "df.shape"
      ]
    },
    {
      "cell_type": "markdown",
      "metadata": {
        "id": "_FVJkkvhdy2a"
      },
      "source": [
        "So we have 8769 Rows and 14 features"
      ]
    },
    {
      "cell_type": "code",
      "execution_count": null,
      "metadata": {
        "id": "Ny-LtjNIWbwr"
      },
      "outputs": [],
      "source": [
        "#printing the first 5 rows of dataset\n",
        "df.head()"
      ]
    },
    {
      "cell_type": "code",
      "execution_count": null,
      "metadata": {
        "id": "oUfoMcg5Xr24"
      },
      "outputs": [],
      "source": [
        "#dataset info\n",
        "df.info()"
      ]
    },
    {
      "cell_type": "markdown",
      "metadata": {
        "id": "Lij0sMF0X6GG"
      },
      "source": [
        "**Here we see the following columns are objects: -**\n",
        "\n",
        "* **Date**\n",
        "* **Season**\n",
        "* **Holiday**\n",
        "* **Functionaing day**\n",
        "\n",
        "**So we to convert them into datetime data type.**\n",
        "\n",
        "**Date convert to Datetime**\n",
        "\n",
        "**Rest we see later**"
      ]
    },
    {
      "cell_type": "code",
      "execution_count": null,
      "metadata": {
        "id": "D1c4puM-d_MT"
      },
      "outputs": [],
      "source": [
        "# convert the 'Date' column to datetime format\n",
        "df['Date']= pd.to_datetime(df['Date'])\n",
        "\n",
        "#let's check \n",
        "df.info()"
      ]
    },
    {
      "cell_type": "code",
      "execution_count": null,
      "metadata": {
        "id": "8CEcmpCHfSEa"
      },
      "outputs": [],
      "source": [
        "#checking for duplicacy in the dataset\n",
        "df.duplicated().sum()"
      ]
    },
    {
      "cell_type": "markdown",
      "metadata": {
        "id": "hKjdK-7yfZzf"
      },
      "source": [
        "* **The dataset doesn't contain any duplicate rows.**"
      ]
    },
    {
      "cell_type": "markdown",
      "metadata": {
        "id": "xHjUEv3_fhQl"
      },
      "source": [
        "##Let's Check for null values"
      ]
    },
    {
      "cell_type": "code",
      "execution_count": null,
      "metadata": {
        "id": "p6h8QkDifiNN"
      },
      "outputs": [],
      "source": [
        "#checking the missing data in the dataset\n",
        "df.isnull().sum()"
      ]
    },
    {
      "cell_type": "markdown",
      "metadata": {
        "id": "qYklTJ8Wf1OH"
      },
      "source": [
        "* **The dateset dont't have null values**"
      ]
    },
    {
      "cell_type": "code",
      "execution_count": null,
      "metadata": {
        "id": "BDHpbpjOXvCQ"
      },
      "outputs": [],
      "source": [
        "#dataset descriptive statistics\n",
        "\n",
        "df.describe()"
      ]
    },
    {
      "cell_type": "code",
      "execution_count": null,
      "metadata": {
        "id": "bvfyrrLuayeJ"
      },
      "outputs": [],
      "source": [
        "#dataset columns\n",
        "df.columns"
      ]
    },
    {
      "cell_type": "code",
      "execution_count": null,
      "metadata": {
        "id": "5eMdPHOfZtDH"
      },
      "outputs": [],
      "source": [
        "#renaming dataset columns\n",
        "bike_df = df.rename( columns = { \"Rented Bike Count\":\"Rented_Bike_Count\",\n",
        "                   \"Temperature(°C)\":\"Temperature\",\n",
        "                   \"Humidity(%)\":\"Humidity\",\n",
        "                   \"Wind speed (m/s)\":\"Wind_speed\",\n",
        "                   \"Visibility (10m)\":\"Visibility\",\n",
        "                   \"Dew point temperature(°C)\":\"Dew_point_temperature\",\n",
        "                   \"Solar Radiation (MJ/m2)\":\"Solar_Radiation\",\n",
        "                   \"Rainfall(mm)\":\"Rainfall\",\n",
        "                   \"Snowfall (cm)\":\"Snowfall\",\n",
        "                   \"Functioning Day\":\"Functioning_Day\" } )\n",
        "bike_df.head(1)"
      ]
    },
    {
      "cell_type": "code",
      "execution_count": null,
      "metadata": {
        "id": "9kS5FQePhsgf"
      },
      "outputs": [],
      "source": [
        "#year columns\n",
        "name_bike_df = bike_df.copy()\n",
        "name_bike_df['year'] = name_bike_df['Date'].dt.year\n",
        "#month column \n",
        "name_bike_df['month'] = name_bike_df['Date'].dt.month_name() \n",
        "#day columns\n",
        "name_bike_df['day'] = name_bike_df['Date'].dt.day\n",
        "#weekday columns\n",
        "name_bike_df['weekday'] = name_bike_df['Date'].dt.day_name() \n",
        "#quarter columns\n",
        "# name_bike_df['quarter'] = name_bike_df['Date'].dt.quarter   \n",
        " "
      ]
    },
    {
      "cell_type": "markdown",
      "metadata": {
        "id": "_VOHgDPe3Y_r"
      },
      "source": [
        "##Let's explore Coloumns"
      ]
    },
    {
      "cell_type": "markdown",
      "metadata": {
        "id": "ZzyhY3qinPfb"
      },
      "source": [
        "##Univariate"
      ]
    },
    {
      "cell_type": "code",
      "execution_count": null,
      "metadata": {
        "id": "ya7cctOonT1J"
      },
      "outputs": [],
      "source": [
        "name_bike_df.head(1)"
      ]
    },
    {
      "cell_type": "code",
      "execution_count": null,
      "metadata": {
        "id": "s59khZHh_NYI"
      },
      "outputs": [],
      "source": [
        ""
      ]
    },
    {
      "cell_type": "code",
      "execution_count": null,
      "metadata": {
        "id": "VqmlVIQW2IoU"
      },
      "outputs": [],
      "source": [
        "# Numeical features\n",
        "\n",
        "numerical_features = name_bike_df.describe().columns\n",
        "numerical_features"
      ]
    },
    {
      "cell_type": "code",
      "execution_count": null,
      "metadata": {
        "id": "W6-iBdHH_VMV"
      },
      "outputs": [],
      "source": [
        "# Distribution of Dependent Variable \n",
        "\n",
        "col = 'Rented_Bike_Count'\n",
        "\n",
        "plt.figure(figsize=(11,4))\n",
        "\n",
        "plt.subplot(1, 2, 1)\n",
        "sns.distplot(name_bike_df[col], kde=True, fit=norm)\n",
        "plt.axvline(np.median(name_bike_df[col]),color='g', linestyle='--')\n",
        "plt.axvline(np.mean(name_bike_df[col]),color='r', linestyle='--')  \n",
        "plt.title(f'skewness {round(name_bike_df[col].skew(),2)}')\n",
        "\n",
        "plt.subplot(1, 2, 2)\n",
        "sns.boxplot(name_bike_df[col])\n",
        "plt.axvline(np.median(name_bike_df[col]),color='g', linestyle='--')\n",
        "plt.axvline(np.mean(name_bike_df[col]),color='r', linestyle='--')  \n",
        "\n",
        "plt.title('boxplot') "
      ]
    },
    {
      "cell_type": "code",
      "execution_count": null,
      "metadata": {
        "id": "5_qvbOcT_144"
      },
      "outputs": [],
      "source": [
        "# Distribution of Dependent Variable after transformation\n",
        "\n",
        "col = 'Rented_Bike_Count'\n",
        "plt.figure(figsize=(15,4))\n",
        "\n",
        "plt.subplot(1, 3, 1)\n",
        "sns.distplot(name_bike_df[col], kde=True)\n",
        "plt.axvline(np.median(name_bike_df[col]),color='g', linestyle='--')\n",
        "plt.axvline(np.mean(name_bike_df[col]),color='r', linestyle='--')  \n",
        "plt.title(f'skewness {round(name_bike_df[col].skew(),2)}')\n",
        "\n",
        "plt.subplot(1, 3, 2)\n",
        "sns.distplot(np.sqrt(name_bike_df[col]), kde=True, color=\"y\")\n",
        "plt.axvline(np.median(np.sqrt(name_bike_df[col])), color='g', linestyle='--')\n",
        "plt.axvline(np.mean(np.sqrt(name_bike_df[col])),color='r', linestyle='--')\n",
        "plt.title(f'sqrt transformed skewness {round((np.sqrt(name_bike_df[col])).skew(),2)}')\n",
        "\n",
        "plt.subplot(1,3,3)\n",
        "stats.probplot(name_bike_df[col], plot=plt)\n",
        "plt.show()\n",
        "\n",
        "plt.show()"
      ]
    },
    {
      "cell_type": "code",
      "execution_count": null,
      "metadata": {
        "id": "poMo5836hC1g"
      },
      "outputs": [],
      "source": [
        "\n",
        "col='Rented_Bike_Count'\n",
        "mean = round(norm.fit(name_bike_df[col])[0],2)\n",
        "sd = round(norm.fit(name_bike_df[col])[1],2)\n",
        "\n",
        "plt.figure(figsize=(21,5))\n",
        "\n",
        "plt.subplot(1,3,1)\n",
        "\n",
        "sns.distplot(name_bike_df[col] , fit=norm, kde =True)\n",
        "plt.axvline(np.median(name_bike_df[col]),color='g', linestyle='--')\n",
        "plt.axvline(np.mean(name_bike_df[col]),color='r', linestyle='--')  \n",
        "# plt.title(f'skewness {round(name_bike_df[col].skew(),2)}')\n",
        "plt.legend(['continuous probability density curve', f'Normal dist.  mean {mean} AND SD {sd} '] , loc='best')\n",
        "plt.ylabel('Frequency') \n",
        "plt.title(f'{col} distribution AND skewness {round(name_bike_df[col].skew(),2)}')\n",
        "\n",
        "plt.subplot(1,3,2)\n",
        "stats.probplot(name_bike_df[col], plot=plt)\n",
        "plt.show()"
      ]
    },
    {
      "cell_type": "code",
      "execution_count": null,
      "metadata": {
        "id": "LvWyg-pKYw7D"
      },
      "outputs": [],
      "source": [
        "from scipy import stats\n",
        "from scipy.stats import norm, skew\n",
        "\n",
        "col='Rented_Bike_Count'\n",
        "\n",
        "mean = round(norm.fit(name_bike_df[col])[0],2)\n",
        "sd = round(norm.fit(name_bike_df[col])[1],2)\n",
        "\n",
        "plt.figure(figsize=(21,5))\n",
        "\n",
        "plt.subplot(1,3,1)\n",
        "\n",
        "sns.distplot(name_bike_df[col] , fit=norm, kde =True)\n",
        "plt.axvline(np.median(name_bike_df[col]),color='g', linestyle='--')\n",
        "plt.axvline(np.mean(name_bike_df[col]),color='r', linestyle='--')  \n",
        "# plt.title(f'skewness {round(name_bike_df[col].skew(),2)}')\n",
        "plt.legend(['continuous probability density curve', f'Normal dist.  mean {mean} AND SD {sd} '] , loc='best')\n",
        "plt.ylabel('Frequency') \n",
        "plt.title(f'{col} distribution AND skewness {round(name_bike_df[col].skew(),2)}')\n",
        "\n",
        "plt.subplot(1,3,2)\n",
        "\n",
        "mean = round(norm.fit(np.sqrt(name_bike_df[col]))[0],2)\n",
        "sd = round(norm.fit(np.sqrt(name_bike_df[col]))[1],2)\n",
        "\n",
        "sns.distplot(np.sqrt(name_bike_df[col]) , fit=norm, kde =True, color=\"y\")\n",
        "plt.axvline(np.median(np.sqrt(name_bike_df[col])),color='g', linestyle='--')\n",
        "plt.axvline(np.mean(np.sqrt(name_bike_df[col])),color='r', linestyle='--')  \n",
        "# plt.title(f'skewness {round(name_bike_df[col].skew(),2)}')\n",
        "plt.legend(['continuous probability density curve', f'Normal dist.  mean {mean} AND SD {sd} '] , loc='best')\n",
        "plt.ylabel('Frequency') \n",
        "plt.title(f'sqrt transformed {col} distribution AND skewness {round(np.sqrt(name_bike_df[col]).skew(),2)}')\n",
        "\n",
        "plt.subplot(1,3,3)\n",
        "\n",
        "stats.probplot(np.sqrt(name_bike_df[col]), plot=plt)\n",
        "\n",
        "plt.show()"
      ]
    },
    {
      "cell_type": "code",
      "execution_count": null,
      "metadata": {
        "id": "pRv6JuIIwPM4"
      },
      "outputs": [],
      "source": [
        "from scipy import stats\n",
        "from scipy.stats import norm, skew\n",
        "\n",
        "col='Rented_Bike_Count'\n",
        "\n",
        "mean = round(norm.fit(name_bike_df[col])[0],2)\n",
        "sd = round(norm.fit(name_bike_df[col])[1],2)\n",
        "\n",
        "plt.figure(figsize=(21,5))\n",
        "\n",
        "plt.subplot(1,3,1)\n",
        "\n",
        "sns.distplot(name_bike_df[col] , fit=norm, kde =True)\n",
        "plt.axvline(np.median(name_bike_df[col]),color='g', linestyle='--')\n",
        "plt.axvline(np.mean(name_bike_df[col]),color='r', linestyle='--')  \n",
        "# plt.title(f'skewness {round(name_bike_df[col].skew(),2)}')\n",
        "plt.legend(['continuous probability density curve', f'Normal dist.  mean {mean} AND SD {sd} '] , loc='best')\n",
        "plt.ylabel('Frequency') \n",
        "plt.title(f'{col} distribution AND skewness {round(name_bike_df[col].skew(),2)}')\n",
        "\n",
        "plt.subplot(1,3,2)\n",
        "\n",
        "mean = round(norm.fit(np.log1p(name_bike_df[col]))[0],2)\n",
        "sd = round(norm.fit(np.log1p(name_bike_df[col]))[1],2)\n",
        "\n",
        "sns.distplot(np.log1p(name_bike_df[col]) , fit=norm, kde =True, color=\"y\")\n",
        "plt.axvline(np.median(np.log1p(name_bike_df[col])),color='g', linestyle='--')\n",
        "plt.axvline(np.mean(np.log1p(name_bike_df[col])),color='r', linestyle='--')  \n",
        "# plt.title(f'skewness {round(name_bike_df[col].skew(),2)}')\n",
        "plt.legend(['continuous probability density curve', f'Normal dist.  mean {mean} AND SD {sd} '] , loc='best')\n",
        "plt.ylabel('Frequency') \n",
        "plt.title(f'log1p transformed {col} distribution AND skewness {round(np.log1p(name_bike_df[col]).skew(),2)}')\n",
        "\n",
        "plt.subplot(1,3,3)\n",
        "\n",
        "stats.probplot(np.log1p(name_bike_df[col]), plot=plt)\n",
        "\n",
        "plt.show()"
      ]
    },
    {
      "cell_type": "code",
      "execution_count": null,
      "metadata": {
        "id": "EzSe8tzihy2Z"
      },
      "outputs": [],
      "source": [
        "# density plot of numerical columns\n",
        "# Distribution of numeric_features\n",
        "\n",
        "for col in numerical_features[1:-2]:\n",
        "\n",
        "  plt.figure(figsize=(19,4))\n",
        "\n",
        "  plt.subplot(1, 3, 1)\n",
        "  sns.distplot(name_bike_df[col], kde=True)\n",
        "  plt.axvline(np.median(name_bike_df[col]),color='g', linestyle='--')\n",
        "  plt.axvline(np.mean(name_bike_df[col]),color='r', linestyle='--')  \n",
        "  plt.title(f'skewness {round(name_bike_df[col].skew(),2)}')\n",
        "\n",
        "  plt.subplot(1, 3, 2)\n",
        "  sns.boxplot(name_bike_df[col])\n",
        "  plt.axvline(np.median(name_bike_df[col]),color='g', linestyle='--')\n",
        "  plt.axvline(np.mean(name_bike_df[col]),color='r', linestyle='--')  \n",
        "  plt.title('boxplot') \n",
        "   \n",
        "  plt.subplot(1,3,3)\n",
        "  stats.probplot(np.log1p(name_bike_df[col]), plot=plt)\n",
        "\n",
        "  plt.show()"
      ]
    },
    {
      "cell_type": "code",
      "execution_count": null,
      "metadata": {
        "id": "2QzDz-g3Qmjh"
      },
      "outputs": [],
      "source": [
        "# transfrming Distribution of numeric_features\n",
        "\n",
        "for col in numerical_features[1:-2]:\n",
        "\n",
        "  plt.figure(figsize=(15,4))\n",
        "\n",
        "  plt.subplot(1, 3, 1)\n",
        "  sns.distplot(name_bike_df[col], kde=True)\n",
        "  plt.axvline(np.median(name_bike_df[col]),color='g', linestyle='--')\n",
        "  plt.axvline(np.mean(name_bike_df[col]),color='r', linestyle='--')  \n",
        "  plt.title(f'skewness {round(name_bike_df[col].skew(),2)}')\n",
        "\n",
        "  plt.subplot(1, 3, 2)\n",
        "  sns.distplot(np.sqrt(name_bike_df[col]), kde=True, color=\"y\")\n",
        "  plt.axvline(np.median(np.sqrt(name_bike_df[col])), color='g', linestyle='--')\n",
        "  plt.axvline(np.mean(np.sqrt(name_bike_df[col])),color='r', linestyle='--')\n",
        "  plt.title(f'sqrt transformed skewness {round((np.sqrt(name_bike_df[col])).skew(),2)}')\n",
        "  plt.show()"
      ]
    },
    {
      "cell_type": "code",
      "execution_count": null,
      "metadata": {
        "id": "BUllR2R2wcP4"
      },
      "outputs": [],
      "source": [
        ""
      ]
    },
    {
      "cell_type": "code",
      "execution_count": null,
      "metadata": {
        "id": "tn0eP3Ps1ASB"
      },
      "outputs": [],
      "source": [
        "# Categorical features\n",
        "\n",
        "categorical_features = name_bike_df.describe(include = \"object\").columns\n",
        "categorical_features"
      ]
    },
    {
      "cell_type": "code",
      "execution_count": null,
      "metadata": {
        "id": "u42JXdnxtqz0"
      },
      "outputs": [],
      "source": [
        "# density plot of numerical columns\n",
        "# Distribution of numeric_features\n",
        "\n",
        "for col in categorical_features:\n",
        "\n",
        "  plt.figure(figsize=(13,4))\n",
        "\n",
        "  plt.subplot(1, 2, 1)\n",
        "  sns.histplot(name_bike_df[col], color=\"orange\")\n",
        "  plt.title(f'skewness')   \n",
        "  plt.xticks(rotation = 45)\n",
        "  plt.show()  \n",
        "  "
      ]
    },
    {
      "cell_type": "markdown",
      "metadata": {
        "id": "SKYEw9U5vwgy"
      },
      "source": [
        "##Bivariate"
      ]
    },
    {
      "cell_type": "code",
      "execution_count": null,
      "metadata": {
        "id": "5RQYmDBgDP6d"
      },
      "outputs": [],
      "source": [
        ""
      ]
    },
    {
      "cell_type": "markdown",
      "metadata": {
        "id": "dZlx3KTHGUkJ"
      },
      "source": [
        "### Target column Rented_Bike_Count"
      ]
    },
    {
      "cell_type": "code",
      "execution_count": null,
      "metadata": {
        "id": "q4mogS5kQkXq"
      },
      "outputs": [],
      "source": [
        "# Check for linear relationship between dependent and numerical independent variables\n",
        "\n",
        "sns.pairplot(data = name_bike_df, hue=\"Rented_Bike_Count\" , y_vars=\"Rented_Bike_Count\") "
      ]
    },
    {
      "cell_type": "code",
      "execution_count": null,
      "metadata": {
        "id": "QEBS65b_L_wM"
      },
      "outputs": [],
      "source": [
        "sns.boxplot(y= name_bike_df.Rented_Bike_Count, x=name_bike_df.Hour) "
      ]
    },
    {
      "cell_type": "code",
      "execution_count": null,
      "metadata": {
        "id": "QjW2Og-XRWnT"
      },
      "outputs": [],
      "source": [
        "name_bike_df[numerical_features].head(1)"
      ]
    },
    {
      "cell_type": "code",
      "execution_count": null,
      "metadata": {
        "id": "tjhDCA4MOBKG"
      },
      "outputs": [],
      "source": [
        "# col = 'Hour'\n",
        "\n",
        "for col in numerical_features[1:]:\n",
        "  sns.scatterplot(y= name_bike_df.Rented_Bike_Count, x=name_bike_df[col])\n",
        "  plt.title(col)\n",
        "  plt.show()"
      ]
    },
    {
      "cell_type": "markdown",
      "metadata": {
        "id": "afbiu5azAQc8"
      },
      "source": [
        "* **PLOT We like to see Count vs hour**\n",
        "* **high Bike rent happen between 5 deg to 35 deg**\n",
        "* **Renter prefer renting when Humidity is between 20% to 90%**\n",
        "* **renter dont like biking when windspeed is higher then 4.8Km\\hr**\n",
        "* **Renter don't prefer renting in rainfall and snowfall**\n",
        "* ****"
      ]
    },
    {
      "cell_type": "code",
      "execution_count": null,
      "metadata": {
        "id": "28Qp0fU1tarp"
      },
      "outputs": [],
      "source": [
        "corr_matrix = name_bike_df.corr()\n",
        "corr_matrix[\"Rented_Bike_Count\"].sort_values(ascending=False)"
      ]
    },
    {
      "cell_type": "code",
      "execution_count": null,
      "metadata": {
        "id": "7Xroq1Qktarp"
      },
      "outputs": [],
      "source": [
        ""
      ]
    },
    {
      "cell_type": "markdown",
      "metadata": {
        "id": "FLYNv2Ia3em-"
      },
      "source": [
        "\n",
        "###1st coloumn \"Date\""
      ]
    },
    {
      "cell_type": "code",
      "execution_count": null,
      "metadata": {
        "id": "pqotqXIV-OsA"
      },
      "outputs": [],
      "source": [
        "print('Dateset range from ',  name_bike_df.Date.nsmallest(1)[0], ' to ', name_bike_df.Date.nlargest(1)[8304])"
      ]
    },
    {
      "cell_type": "code",
      "execution_count": null,
      "metadata": {
        "id": "ipwfQOAHBqN0"
      },
      "outputs": [],
      "source": [
        "name_bike_df.Date.nsmallest(1)[0]-name_bike_df.Date.nlargest(1)[8304] "
      ]
    },
    {
      "cell_type": "markdown",
      "metadata": {
        "id": "EIlL_7EEBcIo"
      },
      "source": [
        "* **We have approx 23 months of data from jan 2017 to dec 2018**"
      ]
    },
    {
      "cell_type": "code",
      "execution_count": null,
      "metadata": {
        "id": "Cy0QFjbv68ON"
      },
      "outputs": [],
      "source": [
        "# bike_df[\"Date\"]\n",
        "sns.lineplot(x = name_bike_df.Date, y = name_bike_df.Rented_Bike_Count)\n",
        "plt.xticks(rotation = 45)"
      ]
    },
    {
      "cell_type": "markdown",
      "metadata": {
        "id": "9a0rP1wFCmNf"
      },
      "source": [
        "* **we can see rent bike count suddenly increse from jan 2018**"
      ]
    },
    {
      "cell_type": "code",
      "execution_count": null,
      "metadata": {
        "id": "USM59MNyj6YZ"
      },
      "outputs": [],
      "source": [
        "# by month\n",
        "sns.lineplot(x = name_bike_df.month, y = name_bike_df.Rented_Bike_Count)\n",
        "plt.xticks(rotation = 90)"
      ]
    },
    {
      "cell_type": "markdown",
      "metadata": {
        "id": "tt3zrxmHDNVb"
      },
      "source": [
        "* **From November to febrary renting bike decrease and June to September also**\n",
        "\n",
        "* **from February to June is sudden rise in renting and September to Octuber also** "
      ]
    },
    {
      "cell_type": "code",
      "execution_count": null,
      "metadata": {
        "id": "KXqFybxQj6Qf"
      },
      "outputs": [],
      "source": [
        "# by day\n",
        "sns.barplot(x = name_bike_df.day, y = name_bike_df.Rented_Bike_Count)"
      ]
    },
    {
      "cell_type": "markdown",
      "metadata": {
        "id": "EiP5T4P6EPmB"
      },
      "source": [
        "* **From 12 to 30 the renting bike is consolidation**\n",
        "\n",
        "* **There is increase in renting in first 7 days**"
      ]
    },
    {
      "cell_type": "code",
      "execution_count": null,
      "metadata": {
        "id": "HYd9eu7IkTD8"
      },
      "outputs": [],
      "source": [
        "sns.barplot(x = name_bike_df.weekday , y = name_bike_df.Rented_Bike_Count ) "
      ]
    },
    {
      "cell_type": "markdown",
      "metadata": {
        "id": "xTF-CqrEFdNr"
      },
      "source": [
        "* **Sunday have lowest renting**\n",
        "* **from Monday to Friday have high renting**"
      ]
    },
    {
      "cell_type": "markdown",
      "metadata": {
        "id": "v1EsjS5ncdef"
      },
      "source": [
        "###3rd column hour"
      ]
    },
    {
      "cell_type": "code",
      "execution_count": null,
      "metadata": {
        "id": "jyfbEaaPcg6j"
      },
      "outputs": [],
      "source": [
        "sns.pairplot(data = name_bike_df, hue=\"Hour\", y_vars=\"Hour\") "
      ]
    },
    {
      "cell_type": "markdown",
      "metadata": {
        "id": "qURa9eOgXBA2"
      },
      "source": [
        "* **tempreture,Windspeed,solar radition is higher in daylight then night**\n",
        "* **Humidity is less between daylight then night**\n"
      ]
    },
    {
      "cell_type": "code",
      "execution_count": null,
      "metadata": {
        "id": "9skS2MOlRLBl"
      },
      "outputs": [],
      "source": [
        "sns.boxplot(x = name_bike_df.Hour, y = name_bike_df.Rented_Bike_Count)"
      ]
    },
    {
      "cell_type": "markdown",
      "metadata": {
        "id": "4k4jAl8XYaNt"
      },
      "source": [
        "* **we see that**\n",
        "** **5-8 bike increase beacuse WORKER rent bike**\n",
        "** **10-18 renting increaase sue to**\n",
        "** **17-18 is high beaacuse worker use them and also people use to wander/cycle**"
      ]
    },
    {
      "cell_type": "markdown",
      "metadata": {
        "id": "SyeCfZaGV02Y"
      },
      "source": [
        "* ****"
      ]
    },
    {
      "cell_type": "markdown",
      "metadata": {
        "id": "iJmSAIcXn79W"
      },
      "source": [
        "###4th column temperature "
      ]
    },
    {
      "cell_type": "code",
      "execution_count": null,
      "metadata": {
        "id": "VvJiypapoNNW"
      },
      "outputs": [],
      "source": [
        "sns.pairplot(data = name_bike_df, hue=\"Temperature\", y_vars=\"Temperature\") "
      ]
    },
    {
      "cell_type": "code",
      "execution_count": null,
      "metadata": {
        "id": "JeHWYyrMbfL1"
      },
      "outputs": [],
      "source": [
        "print('Tempreture range from ',  name_bike_df.Temperature.nsmallest(1)[1352], ' to ', name_bike_df.Temperature.nlargest(1)[5848])"
      ]
    },
    {
      "cell_type": "code",
      "execution_count": null,
      "metadata": {
        "id": "9uSw5RWtb2E0"
      },
      "outputs": [],
      "source": [
        "sns.lineplot(x = name_bike_df.month , y = name_bike_df.Temperature )"
      ]
    },
    {
      "cell_type": "markdown",
      "metadata": {
        "id": "jhUkNpU0AKKQ"
      },
      "source": [
        "###5th column temperature Humidity"
      ]
    },
    {
      "cell_type": "code",
      "execution_count": null,
      "metadata": {
        "id": "6CygclhvAJjo"
      },
      "outputs": [],
      "source": [
        " sns.pairplot(data = name_bike_df, hue=\"Humidity\", y_vars=\"Humidity\") "
      ]
    },
    {
      "cell_type": "markdown",
      "metadata": {
        "id": "NlpbyN4YiDu8"
      },
      "source": [
        "###6th column temperature Wind_speed"
      ]
    },
    {
      "cell_type": "code",
      "execution_count": null,
      "metadata": {
        "id": "pXXsb9uaiDu9"
      },
      "outputs": [],
      "source": [
        "sns.pairplot(data = name_bike_df, hue=\"Wind_speed\", y_vars=\"Wind_speed\") "
      ]
    },
    {
      "cell_type": "markdown",
      "metadata": {
        "id": "6GFnYOzUiD7Q"
      },
      "source": [
        "###7th column Dew_point_temperature"
      ]
    },
    {
      "cell_type": "code",
      "execution_count": null,
      "metadata": {
        "id": "0y6LTXdtiD7R"
      },
      "outputs": [],
      "source": [
        "sns.pairplot(data = name_bike_df, hue=\"Dew_point_temperature\", y_vars=\"Dew_point_temperature\") "
      ]
    },
    {
      "cell_type": "markdown",
      "metadata": {
        "id": "VbnUEVuqiEDH"
      },
      "source": [
        "###8th column Solar_Radiation"
      ]
    },
    {
      "cell_type": "code",
      "execution_count": null,
      "metadata": {
        "id": "xIYgMQV2iEDI"
      },
      "outputs": [],
      "source": [
        "sns.pairplot(data = name_bike_df, hue=\"Solar_Radiation\", y_vars=\"Solar_Radiation\") "
      ]
    },
    {
      "cell_type": "markdown",
      "metadata": {
        "id": "ScZ87RNuiEKh"
      },
      "source": [
        "###9th column Rainfall"
      ]
    },
    {
      "cell_type": "code",
      "execution_count": null,
      "metadata": {
        "id": "MCJ1zIG1iEKi"
      },
      "outputs": [],
      "source": [
        " sns.pairplot(data = name_bike_df, hue=\"Rainfall\", y_vars=\"Rainfall\") "
      ]
    },
    {
      "cell_type": "markdown",
      "metadata": {
        "id": "LnmqRN2diES_"
      },
      "source": [
        "###10th column Snowfall"
      ]
    },
    {
      "cell_type": "code",
      "execution_count": null,
      "metadata": {
        "id": "i-PvOFyViES_"
      },
      "outputs": [],
      "source": [
        " sns.pairplot(data = name_bike_df, hue=\"Snowfall\", y_vars=\"Snowfall\") "
      ]
    },
    {
      "cell_type": "markdown",
      "metadata": {
        "id": "W7wihIW6iEaS"
      },
      "source": [
        "###11th column Seasons"
      ]
    },
    {
      "cell_type": "code",
      "execution_count": null,
      "metadata": {
        "id": "Hik6ayaLiEaS"
      },
      "outputs": [],
      "source": [
        " sns.pairplot(data = name_bike_df, hue=\"Seasons\", y_vars=\"Seasons\") "
      ]
    },
    {
      "cell_type": "markdown",
      "metadata": {
        "id": "RaTwayFk4v9p"
      },
      "source": [
        "###12th column Holiday"
      ]
    },
    {
      "cell_type": "code",
      "execution_count": null,
      "metadata": {
        "id": "jFFP_Iht4v9y"
      },
      "outputs": [],
      "source": [
        " sns.pairplot(data = name_bike_df, hue=\"Holiday\", y_vars=\"Holiday\") "
      ]
    },
    {
      "cell_type": "markdown",
      "metadata": {
        "id": "1i887lC64wEE"
      },
      "source": [
        "###13th column Functioning_Day"
      ]
    },
    {
      "cell_type": "code",
      "execution_count": null,
      "metadata": {
        "id": "XHKWcEpP4wEF"
      },
      "outputs": [],
      "source": [
        " sns.pairplot(data = name_bike_df, hue=\"Functioning_Day\", y_vars=\"Functioning_Day\") "
      ]
    },
    {
      "cell_type": "code",
      "execution_count": null,
      "metadata": {
        "id": "NLZWio6Ycj6w"
      },
      "outputs": [],
      "source": [
        "from scipy.stats import chi2_contingency \n",
        " \n",
        "info = [[100, 200, 300], [50, 60, 70]] \n",
        "print(info)\n",
        "stat, p, dof,lol= chi2_contingency(info) \n",
        " \n",
        "print(dof)\n",
        " \n",
        "significance_level = 0.05\n",
        "print(\"p value: \" + str(p)) \n",
        "if p <= significance_level: \n",
        "    print('Reject NULL HYPOTHESIS') \n",
        "else: \n",
        "    print('ACCEPT NULL HYPOTHESIS') "
      ]
    },
    {
      "cell_type": "code",
      "execution_count": null,
      "metadata": {
        "id": "F-FPnoUjXin-"
      },
      "outputs": [],
      "source": [
        "chi2_contingency(info)"
      ]
    },
    {
      "cell_type": "code",
      "execution_count": null,
      "metadata": {
        "id": "dSI07bBmn7jT"
      },
      "outputs": [],
      "source": [
        "name_bike_df.head(1)"
      ]
    },
    {
      "cell_type": "markdown",
      "metadata": {
        "id": "Tztvks-QsqQu"
      },
      "source": [
        "##MODELLING "
      ]
    },
    {
      "cell_type": "code",
      "execution_count": null,
      "metadata": {
        "id": "wqNos3Lh3U76"
      },
      "outputs": [],
      "source": [
        "df"
      ]
    },
    {
      "cell_type": "code",
      "execution_count": null,
      "metadata": {
        "id": "YuPtm_ZwsphS"
      },
      "outputs": [],
      "source": [
        "from sklearn.model_selection import train_test_split\n",
        "# split into train test sets\n",
        "X_train, X_test, y_train, y_test = train_test_split(X, y, test_size=0.33, random_state=1)\n",
        "# summarize first 5 rows"
      ]
    }
  ],
  "metadata": {
    "colab": {
      "collapsed_sections": [
        "tOGC-qoyhJeX",
        "Y06xIdG26kRF",
        "AlLxAtlziMbP",
        "UwJ6-mli1q_A",
        "NgfDLHZF127h",
        "xHjUEv3_fhQl",
        "iJmSAIcXn79W",
        "jhUkNpU0AKKQ",
        "NlpbyN4YiDu8",
        "6GFnYOzUiD7Q",
        "VbnUEVuqiEDH",
        "ScZ87RNuiEKh",
        "LnmqRN2diES_",
        "W7wihIW6iEaS",
        "RaTwayFk4v9p"
      ],
      "name": "Bike Sharing Demand Prediction - Capstone Project.ipynb",
      "provenance": [],
      "include_colab_link": true
    },
    "kernelspec": {
      "display_name": "Python 3",
      "language": "python",
      "name": "python3"
    },
    "language_info": {
      "codemirror_mode": {
        "name": "ipython",
        "version": 3
      },
      "file_extension": ".py",
      "mimetype": "text/x-python",
      "name": "python",
      "nbconvert_exporter": "python",
      "pygments_lexer": "ipython3",
      "version": "3.6.6"
    }
  },
  "nbformat": 4,
  "nbformat_minor": 0
}